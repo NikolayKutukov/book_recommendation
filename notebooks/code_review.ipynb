{
 "cells": [
  {
   "cell_type": "markdown",
   "metadata": {},
   "source": [
    "<ul>\n",
    "  <li><strong>Encoding:</strong> Why use a specific encoding for the Cyrillic script? I recommend using UTF-8 for broader compatibility.</li>\n",
    "  <li><strong>Deprecated Method:</strong> The <code>error_bad_lines</code> method is deprecated in latest versions of Pandas. Instead, use <code>on_bad_lines='skip'</code>.</li>\n",
    "</ul>"
   ]
  },
  {
   "cell_type": "code",
   "execution_count": null,
   "metadata": {},
   "outputs": [],
   "source": [
    "# import\n",
    "import pandas as pd\n",
    "import numpy as np\n",
    "\n",
    "# load ratings\n",
    "ratings = pd.read_csv('Downloads/BX-Book-Ratings.csv', encoding='cp1251', sep=';')\n",
    "ratings = ratings[ratings['Book-Rating']!=0]\n",
    "\n",
    "# load books\n",
    "books = pd.read_csv('Downloads/BX-Books.csv',  encoding='cp1251', sep=';',error_bad_lines=False)"
   ]
  },
  {
   "cell_type": "markdown",
   "metadata": {},
   "source": [
    "<ul>\n",
    "    <li><strong>Data Integrity:</strong> The dataset contains corrupted data. Consider applying a mapping to restore the correct string values.</li>\n",
    "    <li><strong>Data Filtering and Aggregation:</strong> There are many books with the same title. It's better to use a combination of <code>Book-Title</code> and <code>Book-Author</code> for more accurate filtering and aggregation.</li>\n",
    "</ul>"
   ]
  },
  {
   "cell_type": "code",
   "execution_count": null,
   "metadata": {},
   "outputs": [],
   "source": [
    "\n",
    "#users_ratigs = pd.merge(ratings, users, on=['User-ID'])\n",
    "dataset = pd.merge(ratings, books, on=['ISBN'])\n",
    "dataset_lowercase=dataset.apply(lambda x: x.str.lower() if(x.dtype == 'object') else x)\n",
    "\n",
    "tolkien_readers = dataset_lowercase['User-ID'][(dataset_lowercase['Book-Title']=='the fellowship of the ring (the lord of the rings, part 1)') & (dataset_lowercase['Book-Author'].str.contains(\"tolkien\"))]\n",
    "tolkien_readers = tolkien_readers.tolist()\n",
    "tolkien_readers = np.unique(tolkien_readers)\n",
    "\n",
    "# final dataset\n",
    "books_of_tolkien_readers = dataset_lowercase[(dataset_lowercase['User-ID'].isin(tolkien_readers))]\n",
    "\n",
    "# Number of ratings per other books in dataset\n",
    "number_of_rating_per_book = books_of_tolkien_readers.groupby(['Book-Title']).agg('count').reset_index()\n",
    "\n",
    "#select only books which have actually higher number of ratings than threshold\n",
    "books_to_compare = number_of_rating_per_book['Book-Title'][number_of_rating_per_book['User-ID'] >= 8]\n",
    "books_to_compare = books_to_compare.tolist()\n",
    "\n",
    "ratings_data_raw = books_of_tolkien_readers[['User-ID', 'Book-Rating', 'Book-Title']][books_of_tolkien_readers['Book-Title'].isin(books_to_compare)]\n",
    "\n",
    "# group by User and Book and compute mean\n",
    "ratings_data_raw_nodup = ratings_data_raw.groupby(['User-ID', 'Book-Title'])['Book-Rating'].mean()\n",
    "\n",
    "# reset index to see User-ID in every row\n",
    "ratings_data_raw_nodup = ratings_data_raw_nodup.to_frame().reset_index()\n",
    "\n",
    "dataset_for_corr = ratings_data_raw_nodup.pivot(index='User-ID', columns='Book-Title', values='Book-Rating')\n",
    "\n",
    "LoR_list = ['the fellowship of the ring (the lord of the rings, part 1)']\n",
    "\n",
    "result_list = []\n",
    "worst_list = []\n"
   ]
  },
  {
   "cell_type": "markdown",
   "metadata": {},
   "source": [
    "The following code calculates the mean of 'Book-Rating' and 'User-ID' for a specific book and appends the minimum of these means to the `avgrating` list. Doesn't seem logical.\n",
    "\n",
    "```python\n",
    "tab = (ratings_data_raw[ratings_data_raw['Book-Title'] == book_title]\n",
    "       .groupby(ratings_data_raw['Book-Title'])\n",
    "       .mean())\n",
    "avgrating.append(tab['Book-Rating'].min())\n",
    "```\n",
    "<b>Fix suggetion:</b>\n",
    "```python\n",
    "avg_rating = ratings_data_raw[\n",
    "                    (ratings_data_raw['Book-Title'] == book[0]) & \n",
    "                    (ratings_data_raw['Book-Author'] == book[1])\n",
    "                ].groupby(['Book-Title', 'Book-Author'])['Book-Rating'].mean().values[0]\n",
    "avgrating.append(round(avg_rating, 2))\n",
    "```"
   ]
  },
  {
   "cell_type": "code",
   "execution_count": null,
   "metadata": {},
   "outputs": [],
   "source": [
    "\n",
    "# for each of the trilogy book compute:\n",
    "for LoR_book in LoR_list:\n",
    "    \n",
    "    #Take out the Lord of the Rings selected book from correlation dataframe\n",
    "    dataset_of_other_books = dataset_for_corr.copy(deep=False)\n",
    "    dataset_of_other_books.drop([LoR_book], axis=1, inplace=True)\n",
    "      \n",
    "    # empty lists\n",
    "    book_titles = []\n",
    "    correlations = []\n",
    "    avgrating = []\n",
    "\n",
    "    # corr computation\n",
    "    for book_title in list(dataset_of_other_books.columns.values):\n",
    "        book_titles.append(book_title)\n",
    "        correlations.append(dataset_for_corr[LoR_book].corr(dataset_of_other_books[book_title]))\n",
    "        # why calculate mean for user_id?\n",
    "        tab=(ratings_data_raw[ratings_data_raw['Book-Title']==book_title].groupby(ratings_data_raw['Book-Title']).mean())\n",
    "        # why calculate min?\n",
    "        avgrating.append(tab['Book-Rating'].min())\n",
    "    # final dataframe of all correlation of each book   \n",
    "    corr_fellowship = pd.DataFrame(list(zip(book_titles, correlations, avgrating)), columns=['book','corr','avg_rating'])\n",
    "    corr_fellowship.head()\n",
    "\n",
    "    # top 10 books with highest corr\n",
    "    result_list.append(corr_fellowship.sort_values('corr', ascending = False).head(10))\n",
    "    \n",
    "    #worst 10 books\n",
    "    worst_list.append(corr_fellowship.sort_values('corr', ascending = False).tail(10))\n",
    "    \n",
    "print(\"Correlation for book:\", LoR_list[0])\n",
    "#print(\"Average rating of LOR:\", ratings_data_raw[ratings_data_raw['Book-Title']=='the fellowship of the ring (the lord of the rings, part 1'].groupby(ratings_data_raw['Book-Title']).mean()))\n",
    "rslt = result_list[0]"
   ]
  }
 ],
 "metadata": {
  "kernelspec": {
   "display_name": "book_recommender",
   "language": "python",
   "name": "python3"
  },
  "language_info": {
   "name": "python",
   "version": "3.12.7"
  }
 },
 "nbformat": 4,
 "nbformat_minor": 2
}
