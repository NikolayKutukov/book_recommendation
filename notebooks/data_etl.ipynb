{
 "cells": [
  {
   "cell_type": "markdown",
   "metadata": {},
   "source": [
    "## Extract"
   ]
  },
  {
   "cell_type": "code",
   "execution_count": 20,
   "metadata": {},
   "outputs": [],
   "source": [
    "import kaggle\n",
    "import pandas as pd\n",
    "import sys\n",
    "sys.path.append('./scripts')\n",
    "from etl import *"
   ]
  },
  {
   "cell_type": "code",
   "execution_count": null,
   "metadata": {},
   "outputs": [],
   "source": [
    "# Check the encoding of the files\n",
    "import chardet\n",
    "!chardetect /Users/nikolaykutukov/book_recommender_case_study/data/Books.csv\n",
    "!chardetect /Users/nikolaykutukov/book_recommender_case_study/data/Ratings.csv"
   ]
  },
  {
   "cell_type": "code",
   "execution_count": null,
   "metadata": {},
   "outputs": [],
   "source": [
    "DATASET_NAME = \"arashnic/book-recommendation-dataset\"\n",
    "\n",
    "kaggle.api.authenticate()\n",
    "kaggle.api.dataset_download_files(DATASET_NAME, path='../data', unzip=True)"
   ]
  },
  {
   "cell_type": "code",
   "execution_count": null,
   "metadata": {},
   "outputs": [],
   "source": [
    "ratings_path = '../data/Ratings.csv'\n",
    "books_path = '../data/Books.csv'\n",
    "# keep only columns needed for the script\n",
    "ratings = pd.read_csv(ratings_path, sep=',', encoding='utf-8', dtype={'Book-Rating': 'Int64', 'User-ID': 'Int64', 'ISBN': 'str'})\n",
    "books = pd.read_csv(books_path, sep=',', encoding='utf-8', usecols=['ISBN', 'Book-Title', 'Book-Author'], dtype={'Book-Title': 'str', 'Book-Author': 'str', 'ISBN': 'str'})"
   ]
  },
  {
   "cell_type": "code",
   "execution_count": null,
   "metadata": {},
   "outputs": [],
   "source": [
    "print(books[books['ISBN']=='3442421322'])"
   ]
  },
  {
   "cell_type": "code",
   "execution_count": null,
   "metadata": {},
   "outputs": [],
   "source": [
    "print(ratings.info())\n",
    "print(books.info())"
   ]
  },
  {
   "cell_type": "code",
   "execution_count": null,
   "metadata": {},
   "outputs": [],
   "source": [
    "print(ratings.describe())\n",
    "print(books.describe())"
   ]
  },
  {
   "cell_type": "code",
   "execution_count": null,
   "metadata": {},
   "outputs": [],
   "source": [
    "str(books['Book-Title'][books['ISBN']=='3442421322'])\n"
   ]
  },
  {
   "cell_type": "code",
   "execution_count": null,
   "metadata": {},
   "outputs": [],
   "source": [
    "print(string_normalize(str(books['Book-Title'][books['ISBN']=='3442421322'])))   "
   ]
  },
  {
   "cell_type": "code",
   "execution_count": null,
   "metadata": {},
   "outputs": [],
   "source": [
    "def clean_books(books):\n",
    "    # Drop rows with missing ISBN\n",
    "    books.dropna(subset=['ISBN'], inplace=True)\n",
    "    books = remove_invalid_isbn(books)\n",
    "    # Remove duplicates based on ISBN\n",
    "    books.drop_duplicates(subset=['ISBN'], keep='first', inplace=True)\n",
    "    # Handle missing values - fill NA with a default value or drop rows\n",
    "    books.fillna({'Book-Author': 'Unknown'}, inplace=True)\n",
    "    # Ensure ISBNs are valid\n",
    "    books['ISBN']= books['ISBN'].apply(clean_isbn)\n",
    "    books = remove_invalid_isbn(books)\n",
    "    books['Book-Title-Cleaned'] = books['Book-Title'].apply(string_normalize)\n",
    "    books['Book-Author-Cleaned'] = books['Book-Author'].apply(string_normalize)\n",
    "    return books.reset_index(drop=True)\n",
    "\n",
    "def clean_ratings(ratings):\n",
    "    # Drop rows where User-ID, ISBN or Book-Rating is missing\n",
    "    ratings = ratings[ratings['Book-Rating']!=0]\n",
    "    ratings.dropna(subset=['User-ID', 'ISBN', 'Book-Rating'], inplace=True)\n",
    "    # Drop rows with invalid ratings\n",
    "    ratings = ratings[(ratings['Book-Rating'] > 0) & (ratings['Book-Rating'] <= 10)]\n",
    "    # Drop rows with invalid User-ID\n",
    "    ratings = ratings[ratings['User-ID'] >= 0]\n",
    "    # Ensure ISBNs are valid\n",
    "    ratings['ISBN']= ratings['ISBN'].apply(clean_isbn)\n",
    "    ratings = remove_invalid_isbn(ratings)\n",
    "    return ratings.reset_index(drop=True)\n",
    "\n",
    "books_cleaned = clean_books(books)\n",
    "ratings_cleaned = clean_ratings(ratings)\n",
    "\n",
    "print(books.info())\n",
    "print(ratings.info())"
   ]
  },
  {
   "cell_type": "code",
   "execution_count": null,
   "metadata": {},
   "outputs": [],
   "source": [
    "books_cleaned.to_csv('../data/books_cleaned.csv', encoding='utf-8')\n",
    "ratings_cleaned.to_csv('../data/ratings_cleaned.csv', encoding='utf-8')"
   ]
  }
 ],
 "metadata": {
  "kernelspec": {
   "display_name": "book_recommender",
   "language": "python",
   "name": "python3"
  },
  "language_info": {
   "codemirror_mode": {
    "name": "ipython",
    "version": 3
   },
   "file_extension": ".py",
   "mimetype": "text/x-python",
   "name": "python",
   "nbconvert_exporter": "python",
   "pygments_lexer": "ipython3",
   "version": "3.12.7"
  }
 },
 "nbformat": 4,
 "nbformat_minor": 2
}
